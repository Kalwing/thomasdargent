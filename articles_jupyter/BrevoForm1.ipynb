{
 "cells": [
  {
   "cell_type": "raw",
   "id": "f78a9666-63a8-4c46-8e7a-2988491bcc0e",
   "metadata": {
    "vscode": {
     "languageId": "raw"
    }
   },
   "source": [
    "---\n",
    "highlight-style: monokai\n",
    "---"
   ]
  },
  {
   "cell_type": "markdown",
   "id": "a1c088f6",
   "metadata": {},
   "source": [
    "# A Simpler Newsletter Form : Creating New Contacts with Brevo.\n",
    "|A Guide to Using Their API with Django|\n",
    "\n",
    "## Wrestling with an outdated documentation\n",
    "\n",
    "Brevo is an easy-to-use newsletter service that offers a lot of great features. There's a free plan, pre-made templates, you can use SMS, Mail... and – more importantly – they have a nice API. But there's a dark spot on the map. Brevo hide something. Brevo wasn't always Brevo. Brevo swept its infancy under a rug... you see, before 2023, Brevo was... SendInBlue. Ok, jokes aside, it means that their otherwise impressive API documentation refers to an outdated SDK.\n",
    "\n",
    "For a project, I had to implement a newsletter form so that users could join a mailing list. To better integrate it to the website, we wanted to use a custom form. Simple enough. Except the contacts' documentation refer to a SendInBlue python SDK, and the package is **complicated**. I wanted to reverse engineer the SDK but it is huge, it isn't easy to make your way through the code. Lazily, I decided to use the requests library to interact with the Brevo API directly. This tutorial describes the process.\n",
    "\n",
    "### A fake problem because of an inconsistency\n",
    "\n",
    "While writing this I realized that the [github documentation](https://github.com/getbrevo/brevo-python/blob/main/docs/ContactsApi.md#add_contact_to_list)  of the Brevo package, linked on the new SDK page, is up-to-date. As I said, that is not the case of the [API documentation of their website](https://developers.brevo.com/reference/createcontact), which refers to a SendInBlue GitHub profile. Nevermind, let's just say this article might help people that were as lost as me find their way between both !\n",
    "\n",
    "## What to expect in this series\n",
    "This first part will only focus on making your API with. The next one will describe the front end implementation with HTMX, as a bonus. Finally I will write an article on how you can add a custom captcha to the form (or any form, for that matter). \n",
    "\n",
    "## Adding a contact to a Brevo list"
   ]
  },
  {
   "cell_type": "markdown",
   "id": "c12a54b7-5550-464f-9111-8b8fde4d26e4",
   "metadata": {},
   "source": [
    "![File architecture in our Django folders](img/BrevoForm1_Architecture.svg)\n",
    "In our views.py file, we'll first get the POST data we need.\n",
    "\n",
    "```{.python filename=\"views.py\"}\n",
    "def brevo_handler(request):\n",
    "    # Extracting the posted data from the request\n",
    "    email = request.POST.get(\"email\")\n",
    "    last_name = request.POST.get(\"last_name\")\n",
    "    first_name = request.POST.get(\"first_name\")\n",
    "    captcha_code = request.POST.get(\"captcha\")\n",
    "```"
   ]
  },
  {
   "cell_type": "markdown",
   "id": "5bcef782-129e-4109-998f-dd49e65ae0f7",
   "metadata": {},
   "source": [
    "We then use the data we got to construct our request. `email` is a basic field, but all the others needs to be in an `attributes` dict. All optional field needs to be written in full caps.\n",
    "\n",
    "You can send your contacts as such, but you usually want them in a list, to have a better control on who you send your newsletter to. As such, you need to add a field to the dict containing a list of `int` (you can send the contact to multiple lists as one). The list Id can be found on the main Brevo website after a `#`. Sorry for the french interface, here the listId is 2 (which seems to be the default starting Id).\n",
    "![Sorry for the french. Here the listId is 2](./img/brevo_list.png)\n",
    "\n",
    "To send contacts to Brevo, they need to make sure we are the right person, otherwise anyone could spam our contact list. To do that, it gives use a secret key, called the API key. It's super easy to get, and [Brevo explains it well](https://help.brevo.com/hc/fr/articles/209467485-Cr%C3%A9er-ou-supprimer-une-cl%C3%A9-API#heading-3). We also need to send the dict as json, and tell it so.\n",
    "\n",
    "\n",
    "```{.python filename=\"views.py\"}\n",
    "def brevo_handler(request):\n",
    "    #...\n",
    "    # Constructing the Brevo API request payload with the posted data\n",
    "    obj = {\n",
    "        \"email\": email,\n",
    "        \"attributes\": {\n",
    "            \"LNAME\": last_name,\n",
    "            \"FNAME\": first_name,\n",
    "        },\n",
    "    }\n",
    "    if BREVO_LIST is not None:\n",
    "        obj[\"listIds\"] = [int(BREVO_LIST),]\n",
    "    headers = {\n",
    "        \"api-key\": BREVO_API_KEY,\n",
    "        \"accept\": \"application/json\",\n",
    "        \"content-type\": \"application/json\",\n",
    "    }\n",
    "```"
   ]
  },
  {
   "cell_type": "markdown",
   "id": "573d5e10-5522-4acc-ad77-0772c5b86e29",
   "metadata": {},
   "source": [
    "The payload can now be sent in a POST request to Brevo.\n",
    "\n",
    "```{.python filename=\"views.py\"}\n",
    "def brevo_handler(request):\n",
    "    #...\n",
    "    response = requests.post(BREVO_URL, json=obj, headers=headers)\n",
    "\n",
    "    if response.status_code == 201:  # Success\n",
    "        return HttpResponse(\"Created contact\")\n",
    "    else:\n",
    "        return HttpResponseBadRequest(f\"Erreur d'inscription. Veuillez réessayer.\")\n",
    "```"
   ]
  },
  {
   "cell_type": "markdown",
   "id": "e07c4c9f-5d12-48fa-acf2-3b0cca9014e9",
   "metadata": {},
   "source": [
    "To serve the API, it need to be linked to an url in the urls.py file of our app.\n",
    "\n",
    "```{.python filename=\"urls.py\"}\n",
    "from django.urls import path\n",
    "from . import views\n",
    "\n",
    "urlpatterns = [\n",
    "    path(\"create_contact\", views.brevo_handler, name=\"brevo_handler\"),\n",
    "]\n",
    "```"
   ]
  },
  {
   "cell_type": "markdown",
   "id": "4124e9ac-d105-4d80-81e1-304b98949a49",
   "metadata": {},
   "source": [
    "You should have a working API. Sending the POST request will create a new contact in your contact list."
   ]
  },
  {
   "cell_type": "markdown",
   "id": "1065d58d-b2f4-4339-9812-daf668de4938",
   "metadata": {},
   "source": [
    "\n",
    "## Handling errors\n",
    "We might want a bit more granularity in the way we deal with errors. Brevo returns a code in the response_text explaining the reason the request couldn't go through. Here's a few listed in the doc :\n",
    "\n",
    "* `invalid_parameter`, `missing_parameter`, `permission_denied`, `unauthorized`, `account_under_validation`, `not_acceptable bad_request`, `unprocessable_entity` : Should all be avoided with a proper forms and a properly set up account\n",
    "* `duplicate_parameter`: happens when one contact is added twice, this should raise an error.\n",
    "\n",
    "\n",
    "```{.python filename=\"views.py\"}\n",
    "def brevo_handler(request):\n",
    "    #...\n",
    "    if response.status_code == 201:  # Success\n",
    "        return render(request, \"_success_newsletter.html\")\n",
    "    else:  # Handle Brevo API errors\n",
    "        err_code = json.loads(response.text)[\"code\"]\n",
    "        if err_code == \"duplicate_parameter\":\n",
    "            return HttpResponseBadRequest(\n",
    "                \"Error : this contact is already in the database.\"\n",
    "            )\n",
    "        return HttpResponseBadRequest(\n",
    "            f\"Inscription error {response.status_code}. {response.text}\"\n",
    "        )\n",
    "```"
   ]
  },
  {
   "cell_type": "markdown",
   "id": "95b1dc2a-8833-46b7-ab1e-5115da00b28c",
   "metadata": {},
   "source": [
    "## Full code\n",
    "And here's the full code to copy paste without thinking 😛 :"
   ]
  },
  {
   "cell_type": "code",
   "execution_count": 2,
   "id": "8b9cad21-164f-4265-9950-2bd578c38932",
   "metadata": {},
   "outputs": [],
   "source": [
    "def brevo_handler(request):\n",
    "    # Extracting the posted data from the request\n",
    "    email = request.POST.get(\"email\")\n",
    "    last_name = request.POST.get(\"last_name\")\n",
    "    first_name = request.POST.get(\"first_name\")\n",
    "\n",
    "    # Constructing the Brevo API request payload with the posted data\n",
    "    obj = {\n",
    "        \"email\": email,\n",
    "        \"attributes\": {\n",
    "            \"NOM\": last_name,\n",
    "            \"PRENOM\": first_name,\n",
    "        },\n",
    "    }\n",
    "    if BREVO_LIST is not None:\n",
    "        obj[\"listIds\"] = [int(BREVO_LIST),]\n",
    "    headers = {\n",
    "        \"api-key\": BREVO_API_KEY,\n",
    "        \"accept\": \"application/json\",\n",
    "        \"content-type\": \"application/json\",\n",
    "    }\n",
    "    response = requests.post(BREVO_URL, json=obj, headers=headers)\n",
    "\n",
    "    if response.status_code == 201:  # Success\n",
    "        return render(request, \"_success_newsletter.html\")\n",
    "    else:  # Handle Brevo API errors\n",
    "        err_code = json.loads(response.text)[\"code\"]\n",
    "        if err_code == \"duplicate_parameter\":\n",
    "            return HttpResponseBadRequest(\n",
    "                \"Error : this contact is already in the database.\"\n",
    "            )\n",
    "        return HttpResponseBadRequest(\n",
    "            f\"Inscription error {response.status_code}. {response.text}\"\n",
    "        )"
   ]
  },
  {
   "cell_type": "markdown",
   "id": "21faa258-17ff-49de-b208-8c18ca39a90d",
   "metadata": {},
   "source": [
    "## Conclusion\n",
    "\n",
    "Here you go, simple indeed. Sometimes it's easier to not use pre-made solutions. Next time we'll make a dynamic form to uses our API."
   ]
  }
 ],
 "metadata": {
  "kernelspec": {
   "display_name": "Python 3 (ipykernel)",
   "language": "python",
   "name": "python3"
  },
  "language_info": {
   "codemirror_mode": {
    "name": "ipython",
    "version": 3
   },
   "file_extension": ".py",
   "mimetype": "text/x-python",
   "name": "python",
   "nbconvert_exporter": "python",
   "pygments_lexer": "ipython3",
   "version": "3.10.12"
  }
 },
 "nbformat": 4,
 "nbformat_minor": 5
}

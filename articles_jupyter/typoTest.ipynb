{
 "cells": [
  {
   "cell_type": "markdown",
   "metadata": {},
   "source": [
    "# Exclusive Blog Content\n",
    "|Content for content lovers, color testers, and font enthusiasts.|\n",
    "\n",
    "This is a blog content. You can use it to test the colors and fonts, mainly focusing on text. Your average simple, minimal blog post.\n",
    "First, let's check out how different fonts and sizes look on each heading.\n",
    "\n",
    "\n",
    "## Here's an H2 Tag\n",
    "H2 tags come right after the H1 tag. Usually, there's one H1 tag per document, which is the title. The H2 tags are the main headings of the article, and they are kind of necessary because they help search engines understand the topic of that document.\n",
    "\n",
    "### Here comes the H3 tag\n",
    "The H3 tags mark the subheadings and their main topics are still related to their respective H2 tags. For example, here, you're still reading about headings and subheadings.\n",
    "\n",
    "#### H4 tag?\n",
    "The journey through heading tags continues. The H4 tag is a subheading for the H3 tag. When do you even use it? Whenever you need a section even smaller than the subheading. It's generally uncommon and doesn't affect search engine optimization much.\n",
    "\n",
    "##### There's an H5 too?\n",
    "Yes, there is. Again, it's not that common, and probably just looks like average text. But who knows. Maybe you'll need it.\n"
   ]
  }
 ],
 "metadata": {
  "language_info": {
   "name": "python"
  }
 },
 "nbformat": 4,
 "nbformat_minor": 2
}
